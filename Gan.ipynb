{
 "cells": [
  {
   "cell_type": "code",
   "execution_count": 11,
   "metadata": {
    "ExecuteTime": {
     "end_time": "2023-06-19T06:42:46.138886600Z",
     "start_time": "2023-06-19T06:42:46.104467700Z"
    },
    "collapsed": true
   },
   "outputs": [],
   "source": [
    "import torch\n",
    "import torch.nn as nn\n",
    "import torch.optim as optim\n",
    "from torch.utils.data import DataLoader\n",
    "from torchvision.datasets import ImageFolder\n",
    "from torchvision.transforms import ToTensor, Resize\n",
    "from torchvision.utils import save_image\n",
    "from torchvision.transforms import InterpolationMode\n",
    "import torchvision.transforms as transforms\n",
    "from tqdm import tqdm\n",
    "from torchvision.utils import save_image"
   ]
  },
  {
   "cell_type": "code",
   "execution_count": 12,
   "metadata": {
    "ExecuteTime": {
     "end_time": "2023-06-19T06:42:46.163990400Z",
     "start_time": "2023-06-19T06:42:46.115009600Z"
    },
    "collapsed": false
   },
   "outputs": [],
   "source": [
    "class ResidualBlock(nn.Module):\n",
    "    def __init__(self, num_channels):\n",
    "        super(ResidualBlock, self).__init__()\n",
    "\n",
    "        self.conv1 = nn.Sequential(\n",
    "            nn.Conv2d(num_channels, num_channels, kernel_size=3, stride=1, padding=1),\n",
    "            nn.BatchNorm2d(num_channels),\n",
    "            nn.PReLU()\n",
    "        )\n",
    "\n",
    "        self.conv2 = nn.Sequential(\n",
    "            nn.Conv2d(num_channels, num_channels, kernel_size=3, stride=1, padding=1),\n",
    "            nn.BatchNorm2d(num_channels)\n",
    "        )\n",
    "\n",
    "    def forward(self, x):\n",
    "        out = self.conv1(x)\n",
    "        out = self.conv2(out)\n",
    "        out = torch.add(out, x)  # Residual connection\n",
    "\n",
    "        return out"
   ]
  },
  {
   "cell_type": "code",
   "execution_count": 13,
   "metadata": {
    "ExecuteTime": {
     "end_time": "2023-06-19T06:42:46.165200800Z",
     "start_time": "2023-06-19T06:42:46.138886600Z"
    },
    "collapsed": false
   },
   "outputs": [],
   "source": [
    "\n",
    "class Generator(nn.Module):\n",
    "    def __init__(self, scale_factor=4, num_channels=3, num_residual_blocks=16):\n",
    "        super(Generator, self).__init__()\n",
    "\n",
    "        # First convolutional layer\n",
    "        self.conv1 = nn.Sequential(\n",
    "            nn.Conv2d(num_channels, 64, kernel_size=9, stride=1, padding=4),\n",
    "            nn.PReLU()\n",
    "        )\n",
    "\n",
    "        # Residual blocks\n",
    "        self.residual_blocks = nn.Sequential()\n",
    "        for _ in range(num_residual_blocks):\n",
    "            self.residual_blocks.add_module('res_block', ResidualBlock(64))\n",
    "\n",
    "        # Second convolutional layer\n",
    "        self.conv2 = nn.Sequential(\n",
    "            nn.Conv2d(64, 64, kernel_size=3, stride=1, padding=1),\n",
    "            nn.BatchNorm2d(64)\n",
    "        )\n",
    "\n",
    "        # Upsampling layers\n",
    "        self.upsampling = nn.Sequential(\n",
    "            nn.Conv2d(64, 256, kernel_size=3, stride=1, padding=1),\n",
    "            nn.PixelShuffle(scale_factor),  # Upsampling using pixel shuffle\n",
    "            nn.PReLU()\n",
    "        )\n",
    "        print('num_channels = {}'.format(num_channels))\n",
    "        # Final convolutional layer\n",
    "        self.conv3 = nn.Conv2d(16, num_channels, kernel_size=9, stride=1, padding=4)\n",
    "\n",
    "    def forward(self, x):\n",
    "        out1 = self.conv1(x)\n",
    "        residual = out1\n",
    "        out2 = self.residual_blocks(out1)\n",
    "        out2 = self.conv2(out2)\n",
    "\n",
    "        out3 = torch.add(out1, out2)\n",
    "        out4 = self.upsampling(out3)\n",
    "        out = self.conv3(out4)\n",
    "\n",
    "        return out"
   ]
  },
  {
   "cell_type": "code",
   "execution_count": 14,
   "metadata": {
    "ExecuteTime": {
     "end_time": "2023-06-19T06:42:46.165200800Z",
     "start_time": "2023-06-19T06:42:46.147296Z"
    },
    "collapsed": false
   },
   "outputs": [],
   "source": [
    "class Discriminator(nn.Module):\n",
    "    def __init__(self, num_channels=3, num_features=64):\n",
    "        super(Discriminator, self).__init__()\n",
    "\n",
    "        # First convolutional layer\n",
    "        self.conv1 = nn.Sequential(\n",
    "            nn.Conv2d(num_channels, num_features, kernel_size=3, stride=1, padding=1),\n",
    "            nn.LeakyReLU(0.2)\n",
    "        )\n",
    "\n",
    "        # Convolutional layers with stride 2\n",
    "        self.conv2 = nn.Sequential(\n",
    "            nn.Conv2d(num_features, num_features * 2, kernel_size=3, stride=2, padding=1),\n",
    "            nn.BatchNorm2d(num_features * 2),\n",
    "            nn.LeakyReLU(0.2)\n",
    "        )\n",
    "\n",
    "        self.conv3 = nn.Sequential(\n",
    "            nn.Conv2d(num_features * 2, num_features * 4, kernel_size=3, stride=2, padding=1),\n",
    "            nn.BatchNorm2d(num_features * 4),\n",
    "            nn.LeakyReLU(0.2)\n",
    "        )\n",
    "\n",
    "        # Convolutional layers with stride 1\n",
    "        self.conv4 = nn.Sequential(\n",
    "            nn.Conv2d(num_features * 4, num_features * 8, kernel_size=3, stride=1, padding=1),\n",
    "            nn.BatchNorm2d(num_features * 8),\n",
    "            nn.LeakyReLU(0.2)\n",
    "        )\n",
    "\n",
    "        # Final classification layer\n",
    "        self.conv5 = nn.Conv2d(num_features * 8, 1, kernel_size=3, stride=1, padding=1)\n",
    "\n",
    "    def forward(self, x):\n",
    "        out1 = self.conv1(x)\n",
    "        out2 = self.conv2(out1)\n",
    "        out3 = self.conv3(out2)\n",
    "        out4 = self.conv4(out3)\n",
    "        out5 = self.conv5(out4)\n",
    "\n",
    "        return out5\n"
   ]
  },
  {
   "cell_type": "code",
   "execution_count": 15,
   "metadata": {
    "ExecuteTime": {
     "end_time": "2023-06-19T06:42:46.202711600Z",
     "start_time": "2023-06-19T06:42:46.158989100Z"
    },
    "collapsed": false
   },
   "outputs": [
    {
     "name": "stdout",
     "output_type": "stream",
     "text": [
      "num_channels = 3\n"
     ]
    }
   ],
   "source": [
    "# Initialize the generator and discriminator\n",
    "generator = Generator()\n",
    "discriminator = Discriminator()\n"
   ]
  },
  {
   "cell_type": "code",
   "execution_count": 16,
   "metadata": {
    "ExecuteTime": {
     "end_time": "2023-06-19T06:42:46.206008200Z",
     "start_time": "2023-06-19T06:42:46.190155200Z"
    },
    "collapsed": false
   },
   "outputs": [],
   "source": [
    "# Define loss function and optimizers\n",
    "criterion = nn.BCELoss()  # Binary cross-entropy loss\n",
    "optimizer_G = optim.Adam(generator.parameters(), lr=0.0002, betas=(0.5, 0.999))\n",
    "optimizer_D = optim.Adam(discriminator.parameters(), lr=0.0002, betas=(0.5, 0.999))\n"
   ]
  },
  {
   "cell_type": "code",
   "execution_count": 17,
   "metadata": {
    "ExecuteTime": {
     "end_time": "2023-06-19T06:47:03.903265200Z",
     "start_time": "2023-06-19T06:47:03.842631300Z"
    },
    "collapsed": false
   },
   "outputs": [],
   "source": [
    "# Set the path to your data folder\n",
    "data_path = \"/home/gustavosmc/Documentos/GPT_Gan/dataset/\"\n",
    "\n",
    "# Define the transformations for your data\n",
    "transform = transforms.Compose([\n",
    "    transforms.Resize((128, 128)),  # Resize the images to a fixed size\n",
    "    transforms.ToTensor(),          # Convert images to tensors\n",
    "    transforms.Normalize((0.5, 0.5, 0.5), (0.5, 0.5, 0.5))  # Normalize image pixels to the range [-1, 1]\n",
    "])\n",
    "\n",
    "transformHr = transforms.Compose([\n",
    "    transforms.Resize((256, 256)),  # Resize the images to a fixed size\n",
    "    transforms.ToTensor(),          # Convert images to tensors\n",
    "    transforms.Normalize((0.5, 0.5, 0.5), (0.5, 0.5, 0.5))  # Normalize image pixels to the range [-1, 1]\n",
    "])\n",
    "\n",
    "# Load the high-resolution and low-resolution images\n",
    "hr_dataset = ImageFolder(root=data_path + \"hr/\", transform=transform)\n",
    "lr_dataset = ImageFolder(root=data_path + \"lr/\", transform=transformHr)\n",
    "\n",
    "# Create the data loader for high-resolution and low-resolution images\n",
    "batch_size = 10\n",
    "shuffle = True  # Set to True if you want to shuffle the data\n",
    "num_workers = 6  # Set the number of worker processes for data loading\n",
    "hr_data_loader = DataLoader(hr_dataset, batch_size=batch_size, shuffle=shuffle, num_workers=num_workers)\n",
    "lr_data_loader = DataLoader(lr_dataset, batch_size=batch_size, shuffle=shuffle, num_workers=num_workers)\n"
   ]
  },
  {
   "attachments": {},
   "cell_type": "markdown",
   "metadata": {
    "collapsed": false
   },
   "source": [
    "# Load and preprocess the dataset\n",
    "dataset = ImageFolder(\"dataset\", transform=Resize((64, 64), interpolation= InterpolationMode.BICUBIC))\n",
    "dataloader = DataLoader(dataset, batch_size=16, shuffle=True, num_workers=4)\n"
   ]
  },
  {
   "cell_type": "code",
   "execution_count": 18,
   "metadata": {
    "ExecuteTime": {
     "end_time": "2023-06-19T06:38:11.851083100Z",
     "start_time": "2023-06-19T06:38:11.828975500Z"
    },
    "collapsed": false
   },
   "outputs": [],
   "source": [
    "num_epochs = 10\n",
    "sample_interval = 10\n",
    "save_interval = 3"
   ]
  },
  {
   "cell_type": "code",
   "execution_count": 19,
   "metadata": {},
   "outputs": [
    {
     "name": "stdout",
     "output_type": "stream",
     "text": [
      "num_channels = 3\n"
     ]
    }
   ],
   "source": [
    "# Set the device to GPU if available, otherwise use CPU\n",
    "device = torch.device(\"cuda\" if torch.cuda.is_available() else \"cpu\")\n",
    "\n",
    "# Instantiate the generator and discriminator\n",
    "generator = Generator()\n",
    "discriminator = Discriminator()\n",
    "\n",
    "# Move the models to the device\n",
    "generator.to(device)\n",
    "discriminator.to(device)\n",
    "\n",
    "# Define the loss function (adversarial and content losses)\n",
    "adversarial_loss = nn.BCEWithLogitsLoss()\n",
    "content_loss = nn.MSELoss()\n",
    "\n",
    "# Define the optimizers for generator and discriminator\n",
    "lr = 0.0005\n",
    "betas = (0.5, 0.999)\n",
    "generator_optimizer = optim.Adam(generator.parameters(), lr=lr, betas=betas)\n",
    "discriminator_optimizer = optim.Adam(discriminator.parameters(), lr=lr, betas=betas)"
   ]
  },
  {
   "cell_type": "code",
   "execution_count": 20,
   "metadata": {
    "collapsed": false
   },
   "outputs": [
    {
     "name": "stderr",
     "output_type": "stream",
     "text": [
      "  0%|          | 0/10 [00:00<?, ?it/s]"
     ]
    }
   ],
   "source": [
    "# Training loop\n",
    "for epoch in tqdm(range(num_epochs)):\n",
    "    for i, (hr_images, lr_images) in enumerate(zip(hr_data_loader, lr_data_loader)):\n",
    "        # Move images to the device\n",
    "        hr_images = hr_images[0].to(device).float()\n",
    "        lr_images = lr_images[0].to(device).float()\n",
    "        \n",
    "        # --------------------\n",
    "        # Train the discriminator\n",
    "        # --------------------\n",
    "        \n",
    "        discriminator.zero_grad()\n",
    "        # Generate high-resolution images from low-resolution images\n",
    "        \n",
    "        # Real and fake labels for adversarial loss\n",
    "        real_labels = torch.ones(hr_images.size(0), 1, device=device)\n",
    "        fake_labels = torch.zeros(hr_images.size(0), 1, device=device)\n",
    "        \n",
    "        # Discriminator loss for real images\n",
    "        #real_outputs = discriminator(hr_images)\n",
    "        #d_loss_real = adversarial_loss(real_outputs, real_labels)\n",
    "        \n",
    "        real_outputs = discriminator(hr_images)\n",
    "        real_labels = torch.ones_like(real_outputs)\n",
    "        d_loss_real = adversarial_loss(real_outputs, real_labels)\n",
    "        \n",
    "        # Discriminator loss for fake images\n",
    "        #fake_outputs = discriminator(sr_images.detach())\n",
    "        #d_loss_fake = adversarial_loss(fake_outputs, fake_labels)\n",
    "\n",
    "        sr_images = generator(lr_images)\n",
    "        sr_images = nn.functional.interpolate(sr_images, size=hr_images.shape[2:], mode='bicubic', align_corners=False)\n",
    "\n",
    "\n",
    "        fake_outputs = discriminator(sr_images)\n",
    "        fake_labels = torch.zeros_like(fake_outputs)\n",
    "        d_loss_fake = adversarial_loss(fake_outputs, fake_labels)\n",
    "        \n",
    "        # Total discriminator loss\n",
    "        d_loss = d_loss_real + d_loss_fake\n",
    "        \n",
    "        # Update discriminator weights\n",
    "        discriminator_optimizer.zero_grad()\n",
    "        d_loss.backward(retain_graph=True)\n",
    "        discriminator_optimizer.step()\n",
    "        \n",
    "        # --------------------\n",
    "        # Train the generator\n",
    "        # --------------------\n",
    "        \n",
    "        generator.zero_grad()\n",
    "        \n",
    "        # Adversarial loss\n",
    "        fake_outputs = discriminator(sr_images)\n",
    "        g_loss_adversarial = adversarial_loss(fake_outputs, real_labels)\n",
    "        \n",
    "        # Content loss\n",
    "        g_loss_content = content_loss(sr_images, hr_images)\n",
    "        \n",
    "        # Total generator loss\n",
    "        g_loss = g_loss_adversarial + 0.01 * g_loss_content\n",
    "        \n",
    "        # Update generator weights\n",
    "        generator_optimizer.zero_grad()\n",
    "        g_loss.backward(retain_graph=True)\n",
    "        generator_optimizer.step()\n",
    "        \n",
    "        # Print progress\n",
    "    \n",
    "        print(f\"Epoch [{epoch+1}/{num_epochs}], Step [{i+1}/{len(hr_data_loader)}], \"\n",
    "                f\"Generator Loss: {g_loss.item():.4f}, Discriminator Loss: {d_loss.item():.4f}\")\n",
    "        \n",
    "        if (i + 1) % save_interval == 0:\n",
    "            torch.save(generator.state_dict(), f\"generator_model_epoch{epoch+1}_batch{i+1}.pt\")\n",
    "            print(f\"Saved generator model at epoch {epoch+1}, batch {i+1}\")\n",
    "\n",
    "            with torch.no_grad():\n",
    "                sr_images = generator(lr_images)\n",
    "            save_image(sr_images, f\"sr_image_epoch{epoch + 1}_batch{i+1}.png\", normalize = True)\n"
   ]
  }
 ],
 "metadata": {
  "kernelspec": {
   "display_name": "Python 3",
   "language": "python",
   "name": "python3"
  },
  "language_info": {
   "codemirror_mode": {
    "name": "ipython",
    "version": 3
   },
   "file_extension": ".py",
   "mimetype": "text/x-python",
   "name": "python",
   "nbconvert_exporter": "python",
   "pygments_lexer": "ipython3",
   "version": "3.9.13"
  }
 },
 "nbformat": 4,
 "nbformat_minor": 0
}
